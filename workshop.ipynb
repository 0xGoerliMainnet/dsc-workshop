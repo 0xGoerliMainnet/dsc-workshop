{
 "cells": [
  {
   "attachments": {},
   "cell_type": "markdown",
   "metadata": {},
   "source": [
    "# Superchain - Data Science Europe Workshop \n",
    "\n",
    "This notebook is to get you started with blockchain and DeFi. The aim of the workshop is to educate and challenge the audenicen on applying data science and machine learning to DeFi and crypto data. \n",
    "\n",
    "We're focussing on Uniswap V3 prices and liquidity. \n",
    "\n",
    "The provided `parquet` files have been prepared from our Superchain API and available for downloaded using this notebook. The files are downloaded to the `./data` directory and required ~2GB of space. \n",
    "\n",
    "The data has been collected from all `Liquidity` and `Price` changes on `Uniswap V3` on Ethereum Mainnet. \n",
    "\n",
    "## Get started below"
   ]
  },
  {
   "cell_type": "code",
   "execution_count": null,
   "metadata": {},
   "outputs": [],
   "source": [
    "# Utility functions \n",
    "\n",
    "import polars as pl\n",
    "import requests\n",
    "import os\n",
    "import pyarrow.parquet as pq\n",
    "import polars.selectors as cs\n",
    "\n",
    "def read_arrow_from_url(url, name):\n",
    "    if not os.path.exists(name):\n",
    "        response = requests.get(url)\n",
    "        response.raise_for_status()\n",
    "        with open(name, \"wb\") as file:\n",
    "            file.write(response.content)\n",
    "    return pl.scan_parquet(name)\n"
   ]
  },
  {
   "cell_type": "code",
   "execution_count": null,
   "metadata": {},
   "outputs": [],
   "source": [
    "# Download liquidity and prices - this will take a few minutes ~2gb\n",
    "\n",
    "liquidity_filename = \"data/liquidity_pool.parquet\"\n",
    "prices_filename = \"data/prices_pool.parquet\"\n",
    "\n",
    "lf_liquidity = read_arrow_from_url(\"https://storage.googleapis.com/234e48ad-7ab0-4c63-92e2-64d64b9e1e1b/liquidity_pool.parquet\", liquidity_filename)\n",
    "lf_prices = read_arrow_from_url(\"https://storage.googleapis.com/234e48ad-7ab0-4c63-92e2-64d64b9e1e1b/prices_pool.parquet\", prices_filename)\n"
   ]
  },
  {
   "attachments": {},
   "cell_type": "markdown",
   "metadata": {},
   "source": [
    "# Test\n"
   ]
  },
  {
   "cell_type": "code",
   "execution_count": null,
   "metadata": {},
   "outputs": [],
   "source": [
    "# schemas\n",
    "\n",
    "print(lf_prices.schema)\n",
    "print(lf_liquidity.schema)\n",
    "\n",
    "\n",
    "# totals \n",
    "\n",
    "print(lf_prices.select(pl.count()).collect())\n",
    "print(lf_liquidity.select(pl.count()).collect())"
   ]
  },
  {
   "cell_type": "code",
   "execution_count": null,
   "metadata": {},
   "outputs": [],
   "source": [
    "lf_prices.collect()"
   ]
  },
  {
   "cell_type": "code",
   "execution_count": null,
   "metadata": {},
   "outputs": [],
   "source": [
    "lf_liquidity.collect()"
   ]
  },
  {
   "cell_type": "code",
   "execution_count": null,
   "metadata": {},
   "outputs": [],
   "source": [
    "# load data\n",
    "\n",
    "lf_prices = pl.scan_parquet(\"data/prices_pool.parquet\")\n",
    "lf_liquidity = pl.scan_parquet(\"data/liquidity_pool.parquet\")"
   ]
  }
 ],
 "metadata": {
  "kernelspec": {
   "display_name": "venv",
   "language": "python",
   "name": "python3"
  },
  "language_info": {
   "codemirror_mode": {
    "name": "ipython",
    "version": 3
   },
   "file_extension": ".py",
   "mimetype": "text/x-python",
   "name": "python",
   "nbconvert_exporter": "python",
   "pygments_lexer": "ipython3",
   "version": "3.11.5"
  },
  "orig_nbformat": 4,
  "vscode": {
   "interpreter": {
    "hash": "fa9a2cabe75d941bdf83c061b2b4aeea0e131946ddad46ab4c08e710c8b132dc"
   }
  }
 },
 "nbformat": 4,
 "nbformat_minor": 2
}
