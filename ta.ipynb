{
 "cells": [
  {
   "attachments": {},
   "cell_type": "markdown",
   "metadata": {},
   "source": [
    "# Technical Analysis"
   ]
  },
  {
   "cell_type": "code",
   "execution_count": 155,
   "metadata": {},
   "outputs": [],
   "source": [
    "import polars as pl\n",
    "import pyarrow.parquet as pq\n",
    "import polars.selectors as cs\n",
    "import numpy as np\n",
    "import decimal \n",
    "\n",
    "lf_prices = pl.scan_parquet(\"data/prices_pool.parquet\")\n",
    "lf_liquidity = pl.scan_parquet(\"data/liquidity_pool.parquet\")"
   ]
  },
  {
   "cell_type": "code",
   "execution_count": 175,
   "metadata": {},
   "outputs": [],
   "source": [
    "# create open, high, low, close and volume measures as the basis for technical analysis \n",
    "\n",
    "one_minute = \"60i\"\n",
    "one_hour = \"360i\"\n",
    "one_day = \"8640i\"\n",
    "intervals = one_hour\n",
    "\n",
    "usdc_address = \"a0b86991c6218b36c1d19d4a2e9eb0ce3606eb48\"\n",
    "\n",
    "ohlc = lf_prices.filter(\n",
    "    pl.any_horizontal(\n",
    "        pl.col(\"token0_address\") == usdc_address, \n",
    "        pl.col(\"token1_address\") == usdc_address,\n",
    "    )\n",
    ").sort(\n",
    "    [\"block_number\", \"transaction_index\", \"log_index\"]\n",
    ").with_columns([\n",
    "    pl.col(\"block_number\").cast(pl.Int64),\n",
    "    pl.struct([\"amount0\", \"token0_decimals\"]).map_batches(\n",
    "        lambda a: int.from_bytes(a.struct.field(\"amount0\")[0], \"little\") / (10 ** a.struct.field(\"token0_decimals\")[0])\n",
    "    ).alias(\"amount0\"),\n",
    "    pl.struct([\"amount1\", \"token1_decimals\"]).map_batches(\n",
    "        lambda a: int.from_bytes(a.struct.field(\"amount1\")[0], \"little\") / (10 ** a.struct.field(\"token1_decimals\")[0])\n",
    "    ).alias(\"amount1\"),\n",
    "]).set_sorted(\"block_number\").group_by_dynamic(\n",
    "    index_column=\"block_number\",\n",
    "    every=intervals,\n",
    "    by=\"pool_address\",\n",
    ").agg([\n",
    "    pl.col(\"price\").first().alias(\"OPEN\"),\n",
    "    pl.col(\"price\").max().alias(\"HIGH\"),\n",
    "    pl.col(\"price\").min().alias(\"LOW\"),\n",
    "    pl.col(\"price\").last().alias(\"CLOSE\"),\n",
    "    pl.col(\"timestamp\").min().alias(\"start_time\"),\n",
    "    pl.col(\"timestamp\").max().alias(\"end_time\"),\n",
    "    pl.col(\"amount0\").sum().alias(\"volume0\"),\n",
    "    pl.col(\"amount1\").sum().alias(\"volume1\"),\n",
    "    pl.col(\"token0_address\").first(),\n",
    "    pl.col(\"token0_name\").first(),\n",
    "    pl.col(\"token0_symbol\").first(),\n",
    "    pl.col(\"token1_address\").first(),\n",
    "    pl.col(\"token1_name\").first(),\n",
    "    pl.col(\"token1_symbol\").first(),\n",
    "    pl.col(\"tick_spacing\").first(),\n",
    "    pl.col(\"fee\").first(),\n",
    "]).collect()\n",
    "\n",
    "ohlc\n",
    "\n",
    "arrow_table = ohlc.to_arrow()\n",
    "pq.write_table(arrow_table, \"data/ohlc.parquet\", compression=\"zstd\")\n",
    "del arrow_table\n",
    "del ohlc\n",
    "\n",
    "lf_ohlc = pl.scan_parquet(\"data/ohlc.parquet\")"
   ]
  },
  {
   "cell_type": "code",
   "execution_count": 187,
   "metadata": {},
   "outputs": [
    {
     "ename": "SyntaxError",
     "evalue": "invalid syntax (1018223623.py, line 5)",
     "output_type": "error",
     "traceback": [
      "\u001b[0;36m  Cell \u001b[0;32mIn[187], line 5\u001b[0;36m\u001b[0m\n\u001b[0;31m    lambda a: if a.struct.field(\"token0_address\") == \"a0b86991c6218b36c1d19d4a2e9eb0ce3606eb48\" else [0] a.struct.field(\"token1_address\")[0]\u001b[0m\n\u001b[0m              ^\u001b[0m\n\u001b[0;31mSyntaxError\u001b[0m\u001b[0;31m:\u001b[0m invalid syntax\n"
     ]
    }
   ],
   "source": [
    "lf_ohlc.select([\n",
    "    pl.col(\"token0_symbol\"),\n",
    "    pl.col(\"token0_address\"),\n",
    "    pl.col(\"token1_symbol\"),\n",
    "    pl.col(\"pool_address\"),\n",
    "    pl.col(\"OPEN\"),\n",
    "    pl.col(\"HIGH\"),\n",
    "    pl.col(\"LOW\"),\n",
    "    pl.col(\"CLOSE\"),\n",
    "    pl.col(\"volume0\"),\n",
    "    pl.col(\"volume1\"),\n",
    "]).collect().glimpse()\n"
   ]
  }
 ],
 "metadata": {
  "kernelspec": {
   "display_name": "venv",
   "language": "python",
   "name": "python3"
  },
  "language_info": {
   "codemirror_mode": {
    "name": "ipython",
    "version": 3
   },
   "file_extension": ".py",
   "mimetype": "text/x-python",
   "name": "python",
   "nbconvert_exporter": "python",
   "pygments_lexer": "ipython3",
   "version": "3.11.5"
  },
  "orig_nbformat": 4,
  "vscode": {
   "interpreter": {
    "hash": "fa9a2cabe75d941bdf83c061b2b4aeea0e131946ddad46ab4c08e710c8b132dc"
   }
  }
 },
 "nbformat": 4,
 "nbformat_minor": 2
}
