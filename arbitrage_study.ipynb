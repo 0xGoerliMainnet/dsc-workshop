{
 "cells": [
  {
   "cell_type": "markdown",
   "id": "f92f9c1b-f1b3-4d3f-b6c8-88aa2221fff8",
   "metadata": {},
   "source": [
    "Investigating DeFi Arbitrage\n",
    "\n",
    "In this notebook, we will demonstrate how to perform exploratory quantative analysis on DeFi data.\n",
    "\n",
    "Our hypothesis is that there may be arbitrage opportunities between different DEX pools for the same asset pairs, due to mispricings arising from market inefficiencies. If such opportunities do exist, then in theory we could buy in one pool and sell in the other to make a profit. By executing these transactions within the same block we can realise a pure arbitrage which involves no inventory risk.\n",
    "\n",
    "To investigate this hypothesis, we will compare pricing between the Uniswap V3 USDC-WETH 5bps pool (0x88e6a0c2ddd26feeb64f039a2c41296fcb3f5640) and the USDC-WETH 30bps pool (0x8ad599c3a0ff1de082011efddc58f1908eb6e6d8). These are two of the highest volume, deepest liquidity pools on Ethereum. If our analysis yields promising results, we can apply the same method to other pools.\n",
    "\n",
    "As these are both WETH-USDC pools, we expect that the prices should be tightly correlated. However, we need to take into account several factors that could cause price discrepancies (even in an efficient market), such as the fact that one pool charges a higher fee. Even if we do find price differences, to determine whether an arbitrage could be profitably realised we must perform backtests which take account of all transaction costs. At this exploratory stage, we just want to see whether the hypothesis is worth pursuing further. "
   ]
  },
  {
   "cell_type": "markdown",
   "id": "5bd0f730-9ac9-41c7-b5f6-b82d34fa3c59",
   "metadata": {},
   "source": [
    "To begin, we'll plot prices from both pools for the range 17937000-17938000, as well as the price difference between the pools."
   ]
  },
  {
   "cell_type": "code",
   "execution_count": null,
   "metadata": {},
   "outputs": [],
   "source": [
    "pip install polars numpy matplotlib"
   ]
  },
  {
   "cell_type": "code",
   "execution_count": 32,
   "metadata": {},
   "outputs": [
    {
     "name": "stdout",
     "output_type": "stream",
     "text": [
      "Rows: 1911\n",
      "Columns: 2\n",
      "$ last_known_price_03  <f64> None, None, None, None, None, None, None, None, None, None\n",
      "$ last_known_price_005 <f64> 1704.761325924081, None, None, None, None, None, None, 1704.7923469892241, None, None\n",
      "\n",
      "None\n"
     ]
    },
    {
     "ename": "ColumnNotFoundError",
     "evalue": "pool_address",
     "output_type": "error",
     "traceback": [
      "\u001b[0;31m---------------------------------------------------------------------------\u001b[0m",
      "\u001b[0;31mColumnNotFoundError\u001b[0m                       Traceback (most recent call last)",
      "\u001b[1;32m/home/joe-superchain/projects/dsc-workshop/arbitrage_study.ipynb Cell 5\u001b[0m line \u001b[0;36m1\n\u001b[1;32m    <a href='vscode-notebook-cell://wsl%2Bubuntu/home/joe-superchain/projects/dsc-workshop/arbitrage_study.ipynb#X20sdnNjb2RlLXJlbW90ZQ%3D%3D?line=117'>118</a>\u001b[0m     plot_data(combined_data_sorted, from_block, to_block)\n\u001b[1;32m    <a href='vscode-notebook-cell://wsl%2Bubuntu/home/joe-superchain/projects/dsc-workshop/arbitrage_study.ipynb#X20sdnNjb2RlLXJlbW90ZQ%3D%3D?line=119'>120</a>\u001b[0m \u001b[39mif\u001b[39;00m \u001b[39m__name__\u001b[39m \u001b[39m==\u001b[39m \u001b[39m\"\u001b[39m\u001b[39m__main__\u001b[39m\u001b[39m\"\u001b[39m:\n\u001b[0;32m--> <a href='vscode-notebook-cell://wsl%2Bubuntu/home/joe-superchain/projects/dsc-workshop/arbitrage_study.ipynb#X20sdnNjb2RlLXJlbW90ZQ%3D%3D?line=120'>121</a>\u001b[0m     main()\n",
      "\u001b[1;32m/home/joe-superchain/projects/dsc-workshop/arbitrage_study.ipynb Cell 5\u001b[0m line \u001b[0;36m1\n\u001b[1;32m    <a href='vscode-notebook-cell://wsl%2Bubuntu/home/joe-superchain/projects/dsc-workshop/arbitrage_study.ipynb#X20sdnNjb2RlLXJlbW90ZQ%3D%3D?line=114'>115</a>\u001b[0m combined_data_sorted \u001b[39m=\u001b[39m calculate_price_differences(combined_data_sorted)\u001b[39m.\u001b[39mcollect()\n\u001b[1;32m    <a href='vscode-notebook-cell://wsl%2Bubuntu/home/joe-superchain/projects/dsc-workshop/arbitrage_study.ipynb#X20sdnNjb2RlLXJlbW90ZQ%3D%3D?line=116'>117</a>\u001b[0m \u001b[39m# print(combined_data_sorted.glimpse())\u001b[39;00m\n\u001b[0;32m--> <a href='vscode-notebook-cell://wsl%2Bubuntu/home/joe-superchain/projects/dsc-workshop/arbitrage_study.ipynb#X20sdnNjb2RlLXJlbW90ZQ%3D%3D?line=117'>118</a>\u001b[0m plot_data(combined_data_sorted, from_block, to_block)\n",
      "\u001b[1;32m/home/joe-superchain/projects/dsc-workshop/arbitrage_study.ipynb Cell 5\u001b[0m line \u001b[0;36m5\n\u001b[1;32m     <a href='vscode-notebook-cell://wsl%2Bubuntu/home/joe-superchain/projects/dsc-workshop/arbitrage_study.ipynb#X20sdnNjb2RlLXJlbW90ZQ%3D%3D?line=47'>48</a>\u001b[0m fig, ax1 \u001b[39m=\u001b[39m plt\u001b[39m.\u001b[39msubplots(figsize\u001b[39m=\u001b[39m(\u001b[39m15\u001b[39m, \u001b[39m10\u001b[39m))\n\u001b[1;32m     <a href='vscode-notebook-cell://wsl%2Bubuntu/home/joe-superchain/projects/dsc-workshop/arbitrage_study.ipynb#X20sdnNjb2RlLXJlbW90ZQ%3D%3D?line=49'>50</a>\u001b[0m \u001b[39m# Filter data for each pool address and plot\u001b[39;00m\n\u001b[0;32m---> <a href='vscode-notebook-cell://wsl%2Bubuntu/home/joe-superchain/projects/dsc-workshop/arbitrage_study.ipynb#X20sdnNjb2RlLXJlbW90ZQ%3D%3D?line=50'>51</a>\u001b[0m pool_data_005 \u001b[39m=\u001b[39m data\u001b[39m.\u001b[39mfilter(pl\u001b[39m.\u001b[39mcol(\u001b[39m'\u001b[39m\u001b[39mpool_address\u001b[39m\u001b[39m'\u001b[39m) \u001b[39m==\u001b[39m \u001b[39m'\u001b[39m\u001b[39m0x88e6a0c2ddd26feeb64f039a2c41296fcb3f5640\u001b[39m\u001b[39m'\u001b[39m)\n\u001b[1;32m     <a href='vscode-notebook-cell://wsl%2Bubuntu/home/joe-superchain/projects/dsc-workshop/arbitrage_study.ipynb#X20sdnNjb2RlLXJlbW90ZQ%3D%3D?line=51'>52</a>\u001b[0m ax1\u001b[39m.\u001b[39mplot(pool_data_005[\u001b[39m'\u001b[39m\u001b[39mcombined_order\u001b[39m\u001b[39m'\u001b[39m]\u001b[39m.\u001b[39mto_numpy(), pool_data_005[\u001b[39m'\u001b[39m\u001b[39mprice\u001b[39m\u001b[39m'\u001b[39m]\u001b[39m.\u001b[39mto_numpy(), linestyle\u001b[39m=\u001b[39m\u001b[39m'\u001b[39m\u001b[39m-\u001b[39m\u001b[39m'\u001b[39m, color\u001b[39m=\u001b[39m\u001b[39m\"\u001b[39m\u001b[39m#2ca02c\u001b[39m\u001b[39m\"\u001b[39m, linewidth\u001b[39m=\u001b[39m\u001b[39m1.5\u001b[39m, label\u001b[39m=\u001b[39m\u001b[39m\"\u001b[39m\u001b[39mUSDC V3 0.3\u001b[39m\u001b[39m%\u001b[39m\u001b[39m\"\u001b[39m)\n\u001b[1;32m     <a href='vscode-notebook-cell://wsl%2Bubuntu/home/joe-superchain/projects/dsc-workshop/arbitrage_study.ipynb#X20sdnNjb2RlLXJlbW90ZQ%3D%3D?line=53'>54</a>\u001b[0m pool_data_03 \u001b[39m=\u001b[39m data\u001b[39m.\u001b[39mfilter(pl\u001b[39m.\u001b[39mcol(\u001b[39m'\u001b[39m\u001b[39mpool_address\u001b[39m\u001b[39m'\u001b[39m) \u001b[39m==\u001b[39m \u001b[39m'\u001b[39m\u001b[39m0x8ad599c3A0ff1De082011EFDDc58f1908eb6e6D8\u001b[39m\u001b[39m'\u001b[39m)\n",
      "File \u001b[0;32m~/anaconda3/lib/python3.11/site-packages/polars/dataframe/frame.py:4012\u001b[0m, in \u001b[0;36mDataFrame.filter\u001b[0;34m(self, *predicates, **constraints)\u001b[0m\n\u001b[1;32m   3915\u001b[0m \u001b[39mdef\u001b[39;00m \u001b[39mfilter\u001b[39m(\n\u001b[1;32m   3916\u001b[0m     \u001b[39mself\u001b[39m,\n\u001b[1;32m   3917\u001b[0m     \u001b[39m*\u001b[39mpredicates: (\n\u001b[0;32m   (...)\u001b[0m\n\u001b[1;32m   3924\u001b[0m     \u001b[39m*\u001b[39m\u001b[39m*\u001b[39mconstraints: Any,\n\u001b[1;32m   3925\u001b[0m ) \u001b[39m-\u001b[39m\u001b[39m>\u001b[39m DataFrame:\n\u001b[1;32m   3926\u001b[0m \u001b[39m    \u001b[39m\u001b[39m\"\"\"\u001b[39;00m\n\u001b[1;32m   3927\u001b[0m \u001b[39m    Filter the rows in the DataFrame based on a predicate expression.\u001b[39;00m\n\u001b[1;32m   3928\u001b[0m \n\u001b[0;32m   (...)\u001b[0m\n\u001b[1;32m   4010\u001b[0m \n\u001b[1;32m   4011\u001b[0m \u001b[39m    \"\"\"\u001b[39;00m\n\u001b[0;32m-> 4012\u001b[0m     \u001b[39mreturn\u001b[39;00m \u001b[39mself\u001b[39m\u001b[39m.\u001b[39mlazy()\u001b[39m.\u001b[39mfilter(\u001b[39m*\u001b[39mpredicates, \u001b[39m*\u001b[39m\u001b[39m*\u001b[39mconstraints)\u001b[39m.\u001b[39mcollect(_eager\u001b[39m=\u001b[39m\u001b[39mTrue\u001b[39;00m)\n",
      "File \u001b[0;32m~/anaconda3/lib/python3.11/site-packages/polars/utils/deprecation.py:100\u001b[0m, in \u001b[0;36mdeprecate_renamed_parameter.<locals>.decorate.<locals>.wrapper\u001b[0;34m(*args, **kwargs)\u001b[0m\n\u001b[1;32m     95\u001b[0m \u001b[39m@wraps\u001b[39m(function)\n\u001b[1;32m     96\u001b[0m \u001b[39mdef\u001b[39;00m \u001b[39mwrapper\u001b[39m(\u001b[39m*\u001b[39margs: P\u001b[39m.\u001b[39margs, \u001b[39m*\u001b[39m\u001b[39m*\u001b[39mkwargs: P\u001b[39m.\u001b[39mkwargs) \u001b[39m-\u001b[39m\u001b[39m>\u001b[39m T:\n\u001b[1;32m     97\u001b[0m     _rename_keyword_argument(\n\u001b[1;32m     98\u001b[0m         old_name, new_name, kwargs, function\u001b[39m.\u001b[39m\u001b[39m__name__\u001b[39m, version\n\u001b[1;32m     99\u001b[0m     )\n\u001b[0;32m--> 100\u001b[0m     \u001b[39mreturn\u001b[39;00m function(\u001b[39m*\u001b[39margs, \u001b[39m*\u001b[39m\u001b[39m*\u001b[39mkwargs)\n",
      "File \u001b[0;32m~/anaconda3/lib/python3.11/site-packages/polars/lazyframe/frame.py:1787\u001b[0m, in \u001b[0;36mLazyFrame.collect\u001b[0;34m(self, type_coercion, predicate_pushdown, projection_pushdown, simplify_expression, slice_pushdown, comm_subplan_elim, comm_subexpr_elim, no_optimization, streaming, _eager)\u001b[0m\n\u001b[1;32m   1774\u001b[0m     comm_subplan_elim \u001b[39m=\u001b[39m \u001b[39mFalse\u001b[39;00m\n\u001b[1;32m   1776\u001b[0m ldf \u001b[39m=\u001b[39m \u001b[39mself\u001b[39m\u001b[39m.\u001b[39m_ldf\u001b[39m.\u001b[39moptimization_toggle(\n\u001b[1;32m   1777\u001b[0m     type_coercion,\n\u001b[1;32m   1778\u001b[0m     predicate_pushdown,\n\u001b[0;32m   (...)\u001b[0m\n\u001b[1;32m   1785\u001b[0m     _eager,\n\u001b[1;32m   1786\u001b[0m )\n\u001b[0;32m-> 1787\u001b[0m \u001b[39mreturn\u001b[39;00m wrap_df(ldf\u001b[39m.\u001b[39mcollect())\n",
      "\u001b[0;31mColumnNotFoundError\u001b[0m: pool_address"
     ]
    },
    {
     "data": {
      "image/png": "[encoded data removed]",
      "text/plain": [
       "<Figure size 1500x1000 with 1 Axes>"
      ]
     },
     "metadata": {},
     "output_type": "display_data"
    }
   ],
   "source": [
    "import polars as pl\n",
    "import numpy as np\n",
    "import matplotlib.pyplot as plt\n",
    "\n",
    "def load_datasets():\n",
    "    return pl.scan_parquet('./data/prices_pool.parquet')\n",
    "\n",
    "def limit_data_by_block(data, from_block, to_block):\n",
    "    return data.filter((pl.col(\"block_number\") >= from_block) & (pl.col(\"block_number\") <= to_block))\n",
    "\n",
    "def sort_data(data):\n",
    "    return data.sort([pl.col('block_number'), pl.col('transaction_index')])\n",
    "\n",
    "def calculate_price_differences(data):\n",
    "    # Create conditional columns for each pool's price\n",
    "    data = data.with_columns([\n",
    "        pl.when(pl.col('pool_address') == '88e6a0c2ddd26feeb64f039a2c41296fcb3f5640')\n",
    "        .then(pl.col('price'))\n",
    "        .otherwise(pl.lit(None))\n",
    "        .alias('last_known_price_005'),\n",
    "\n",
    "        pl.when(pl.col('pool_address') == '8ad599c3A0ff1De082011EFDDc58f1908eb6e6D8')\n",
    "        .then(pl.col('price'))\n",
    "        .otherwise(pl.lit(None))\n",
    "        .alias('last_known_price_03')\n",
    "    ]).select([\n",
    "        pl.col(\"last_known_price_03\"),\n",
    "        pl.col(\"last_known_price_005\"),\n",
    "    ])\n",
    "    print(data.collect().glimpse())\n",
    "\n",
    "    # Apply forward_fill to fill the gaps\n",
    "    data = data.with_columns([\n",
    "        pl.col('last_known_price_005').forward_fill().alias('filled_last_known_price_005'),\n",
    "        pl.col('last_known_price_03').forward_fill().alias('filled_last_known_price_03')\n",
    "    ])\n",
    "\n",
    "    # Calculate the price differences using with_columns\n",
    "    data = data.with_columns([\n",
    "        (pl.col('filled_last_known_price_005') - pl.col('filled_last_known_price_03')).alias('price_difference')\n",
    "    ])\n",
    "\n",
    "\n",
    "    return data\n",
    "\n",
    "def plot_data(data, from_block, to_block):\n",
    "    # Create a figure and axis object\n",
    "    fig, ax1 = plt.subplots(figsize=(15, 10))\n",
    "\n",
    "    # Filter data for each pool address and plot\n",
    "    pool_data_005 = data.filter(pl.col('pool_address') == '0x88e6a0c2ddd26feeb64f039a2c41296fcb3f5640')\n",
    "    ax1.plot(pool_data_005['combined_order'].to_numpy(), pool_data_005['price'].to_numpy(), linestyle='-', color=\"#2ca02c\", linewidth=1.5, label=\"USDC V3 0.3%\")\n",
    "\n",
    "    pool_data_03 = data.filter(pl.col('pool_address') == '0x8ad599c3A0ff1De082011EFDDc58f1908eb6e6D8')\n",
    "    ax1.plot(pool_data_03['combined_order'].to_numpy(), pool_data_03['price'].to_numpy(), linestyle='-', color=\"#1f77b4\", linewidth=1.5, label=\"USDC V3 0.05%\")\n",
    "\n",
    "    # Secondary y-axis for the price difference\n",
    "    ax3 = ax1.twinx()\n",
    "    ax3.axhline(y=0, color='grey', linestyle='--', alpha=0.5)\n",
    "    ax3.plot(data['combined_order'].to_numpy(), data['price_difference'].to_numpy(), color='#d62728', linewidth=1, linestyle='-', label='Price Difference', alpha=0.6)\n",
    "    ax3.set_ylabel('Price Difference')\n",
    "    ax3.tick_params(axis='y')\n",
    "    ax3.legend(loc='upper right')\n",
    "\n",
    "    # Secondary x-axis for block numbers\n",
    "    ax2 = ax1.twiny()\n",
    "    ax2.set_xlim(ax1.get_xlim())\n",
    "\n",
    "    # Retrieve unique block numbers and create label blocks\n",
    "    all_blocks = data['block_number'].unique().to_numpy()\n",
    "    label_blocks = list(range(from_block, to_block + 1, 5))\n",
    "\n",
    "    # Group by block_number and get the first combined_order for each block\n",
    "    block_order_mapping_df = data.group_by('block_number').agg(pl.first('combined_order').alias('first_order'))\n",
    "\n",
    "    # Convert the DataFrame to a dictionary with block numbers as keys and first_order as values\n",
    "    block_order_dict = {row['block_number']: row['first_order'] for row in block_order_mapping_df.to_dicts()}\n",
    "\n",
    "    # Retrieve unique block numbers and create label blocks\n",
    "    all_blocks = data['block_number'].unique().to_list()\n",
    "    label_blocks = list(range(from_block, to_block + 1, 5))\n",
    "\n",
    "    # Setting x-ticks and x-tick labels\n",
    "    ax2.set_xticks([block_order_dict.get(block, None) for block in all_blocks])\n",
    "    ax2.set_xticklabels([str(block) if block in label_blocks and block in block_order_dict else \"\" for block in all_blocks], rotation=45)\n",
    "\n",
    "    # Set labels, title, and grid for the primary y-axis\n",
    "    ax1.set_xlabel('Transaction Order')\n",
    "    ax1.set_ylabel('Price in USDC')\n",
    "    ax1.legend(loc='upper left')\n",
    "\n",
    "    # Set labels for the secondary x-axis\n",
    "    ax2.set_xlabel('Block Number', color='gray')\n",
    "    ax2.tick_params(axis='x', colors='gray')\n",
    "\n",
    "    plt.title('USDC-WETH V3 Pools (0.05% and 0.3%) with Price Difference Overlay')\n",
    "    plt.tight_layout()\n",
    "\n",
    "    # Show the plot\n",
    "    plt.show()\n",
    "\n",
    "def main():\n",
    "    from_block = 17937275\n",
    "    to_block = 17937325\n",
    "\n",
    "    data = load_datasets()\n",
    "    limited_data = limit_data_by_block(data, from_block, to_block)\n",
    "    combined_data_sorted = sort_data(limited_data)\n",
    "\n",
    "    # Adjusted part for adding combined_order\n",
    "    combined_data_sorted = combined_data_sorted.with_columns(\n",
    "        [pl.arange(0, pl.count()).alias('combined_order')]\n",
    "    )\n",
    "\n",
    "    combined_data_sorted = calculate_price_differences(combined_data_sorted).collect()\n",
    "\n",
    "    # print(combined_data_sorted.glimpse())\n",
    "    plot_data(combined_data_sorted, from_block, to_block)\n",
    "\n",
    "if __name__ == \"__main__\":\n",
    "    main()"
   ]
  }
 ],
 "metadata": {
  "kernelspec": {
   "display_name": "base",
   "language": "python",
   "name": "base"
  },
  "language_info": {
   "codemirror_mode": {
    "name": "ipython",
    "version": 3
   },
   "file_extension": ".py",
   "mimetype": "text/x-python",
   "name": "python",
   "nbconvert_exporter": "python",
   "pygments_lexer": "ipython3",
   "version": "3.11.5"
  }
 },
 "nbformat": 4,
 "nbformat_minor": 5
}
